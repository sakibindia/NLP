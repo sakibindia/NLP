{
 "cells": [
  {
   "cell_type": "code",
   "execution_count": 6,
   "metadata": {
    "collapsed": false
   },
   "outputs": [],
   "source": [
    "import pandas as pd\n",
    "import numpy as np\n",
    "from sklearn.naive_bayes import MultinomialNB\n",
    "from sklearn.feature_extraction.text import CountVectorizer,TfidfTransformer\n",
    "from sklearn.svm import SVC\n",
    "from sklearn.metrics import confusion_matrix,accuracy_score,f1_score,classification_report\n",
    "from sklearn.cross_validation import train_test_split,StratifiedKFold,cross_val_score"
   ]
  },
  {
   "cell_type": "code",
   "execution_count": 7,
   "metadata": {
    "collapsed": false
   },
   "outputs": [
    {
     "name": "stdout",
     "output_type": "stream",
     "text": [
      "0 ham\tGo until jurong point, crazy.. Available only in bugis n great world la e buffet... Cine there got amore wat...\n",
      "1 ham\tOk lar... Joking wif u oni...\n",
      "2 spam\tFree entry in 2 a wkly comp to win FA Cup final tkts 21st May 2005. Text FA to 87121 to receive entry question(std txt rate)T&C's apply 08452810075over18's\n",
      "3 ham\tU dun say so early hor... U c already then say...\n",
      "4 ham\tNah I don't think he goes to usf, he lives around here though\n",
      "5 spam\tFreeMsg Hey there darling it's been 3 week's now and no word back! I'd like some fun you up for it still? Tb ok! XxX std chgs to send, Â£1.50 to rcv\n",
      "6 ham\tEven my brother is not like to speak with me. They treat me like aids patent.\n",
      "7 ham\tAs per your request 'Melle Melle (Oru Minnaminunginte Nurungu Vettam)' has been set as your callertune for all Callers. Press *9 to copy your friends Callertune\n",
      "8 spam\tWINNER!! As a valued network customer you have been selected to receivea Â£900 prize reward! To claim call 09061701461. Claim code KL341. Valid 12 hours only.\n",
      "9 spam\tHad your mobile 11 months or more? U R entitled to Update to the latest colour mobiles with camera for Free! Call The Mobile Update Co FREE on 08002986030\n"
     ]
    }
   ],
   "source": [
    "message=[line.rstrip() for line in open('SMSSpamCollection','r')]\n",
    "for message_no,message in enumerate(message[:10]):\n",
    "    print(message_no,message)"
   ]
  },
  {
   "cell_type": "code",
   "execution_count": 8,
   "metadata": {
    "collapsed": false
   },
   "outputs": [
    {
     "data": {
      "text/plain": [
       "29"
      ]
     },
     "execution_count": 8,
     "metadata": {},
     "output_type": "execute_result"
    }
   ],
   "source": [
    "message=pd.read_csv('SMSSpamCollection',sep='\\t',names=['label','SMS'])\n",
    "message.head()\n",
    "message.groupby('label').describe()\n",
    "len(message['SMS'][1])"
   ]
  },
  {
   "cell_type": "code",
   "execution_count": 9,
   "metadata": {
    "collapsed": false
   },
   "outputs": [
    {
     "data": {
      "image/png": "[encoded data removed]",
      "text/plain": [
       "<matplotlib.figure.Figure at 0x22046fda128>"
      ]
     },
     "metadata": {},
     "output_type": "display_data"
    },
    {
     "data": {
      "text/plain": [
       "count    5572.000000\n",
       "mean       80.489950\n",
       "std        59.942907\n",
       "min         2.000000\n",
       "25%        36.000000\n",
       "50%        62.000000\n",
       "75%       122.000000\n",
       "max       910.000000\n",
       "Name: length, dtype: float64"
      ]
     },
     "execution_count": 9,
     "metadata": {},
     "output_type": "execute_result"
    }
   ],
   "source": [
    "import matplotlib.pyplot as plt\n",
    "message['length'] = message['SMS'].map(lambda text:len(text))\n",
    "message.length.plot(bins = 20, kind = 'hist')\n",
    "plt.show()\n",
    "message.length.describe()"
   ]
  },
  {
   "cell_type": "code",
   "execution_count": null,
   "metadata": {
    "collapsed": false
   },
   "outputs": [],
   "source": [
    "# message.head()\n",
    "# message.hist(column='length',by=['label','SMS'],bins=50)\n",
    "# plt.show()"
   ]
  },
  {
   "cell_type": "code",
   "execution_count": 10,
   "metadata": {
    "collapsed": false
   },
   "outputs": [],
   "source": [
    "from textblob import TextBlob\n",
    "def split_into_lemmas(messages):\n",
    "    text=TextBlob(messages).words\n",
    "    return [word.lemma for word in text]\n",
    "\n",
    "bow_transformer=CountVectorizer(analyzer=split_into_lemmas).fit(message['SMS'])\n"
   ]
  },
  {
   "cell_type": "code",
   "execution_count": 11,
   "metadata": {
    "collapsed": false
   },
   "outputs": [
    {
     "name": "stdout",
     "output_type": "stream",
     "text": [
      "  (0, 2557)\t1\n",
      "  (0, 3177)\t1\n",
      "  (0, 7633)\t1\n",
      "  (0, 8421)\t1\n",
      "  (0, 10339)\t1\n",
      "  (0, 10695)\t1\n",
      "'An\n",
      "'m\n"
     ]
    }
   ],
   "source": [
    "print(bow_transformer.transform([message['SMS'][1]]))\n",
    "print(bow_transformer.get_feature_names()[1])\n",
    "print(bow_transformer.get_feature_names()[25])"
   ]
  },
  {
   "cell_type": "code",
   "execution_count": 12,
   "metadata": {
    "collapsed": false
   },
   "outputs": [
    {
     "name": "stdout",
     "output_type": "stream",
     "text": [
      "sparx_matrix shape: (5572, 11032)\n",
      "none zero: 81553\n",
      "sparsity 0.13%\n"
     ]
    }
   ],
   "source": [
    "message_boe=bow_transformer.transform(message['SMS'])\n",
    "print('sparx_matrix shape:',message_boe.shape)\n",
    "print('none zero:',message_boe.nnz)\n",
    "print('sparsity %.2f%%'%(100 * message_boe.nnz/(message_boe.shape[0] * message_boe.shape[1])))"
   ]
  },
  {
   "cell_type": "code",
   "execution_count": 13,
   "metadata": {
    "collapsed": false
   },
   "outputs": [
    {
     "name": "stdout",
     "output_type": "stream",
     "text": [
      "  (0, 10695)\t0.40108884077\n",
      "  (0, 10339)\t0.200805259029\n",
      "  (0, 8421)\t0.504936347182\n",
      "  (0, 7633)\t0.377185134866\n",
      "  (0, 3177)\t0.291543523313\n",
      "  (0, 2557)\t0.562652666483\n",
      "(5572, 11032)\n",
      "now perform spam detector using multinomial detector :\n",
      "let use the a particular message for testinf purpose\n",
      "['ham']\n"
     ]
    }
   ],
   "source": [
    "tf_idf_transformer=TfidfTransformer().fit(message_boe)\n",
    "print(tf_idf_transformer.transform(bow_transformer.transform( [message['SMS'][1]] ) ) )\n",
    "#convert the entire dataset into the tf idf transformer\n",
    "message_tf_idf=tf_idf_transformer.transform(message_boe)\n",
    "print(message_tf_idf.shape)\n",
    "print('now perform spam detector using multinomial detector :')\n",
    "MNB=MultinomialNB().fit(message_tf_idf,message['label'])\n",
    "print('let use the a particular message for testinf purpose')\n",
    "print(MNB.predict(tf_idf_transformer.transform(bow_transformer.transform([message['SMS'][1]]))[0]))"
   ]
  },
  {
   "cell_type": "code",
   "execution_count": 22,
   "metadata": {
    "collapsed": false
   },
   "outputs": [
    {
     "name": "stdout",
     "output_type": "stream",
     "text": [
      "Axxuracy of all meassage: 0.972182340273\n",
      "Confusion matrix: [[4825    0]\n",
      " [ 155  592]]\n"
     ]
    },
    {
     "data": {
      "image/png": "[encoded data removed]",
      "text/plain": [
       "<matplotlib.figure.Figure at 0x2204d560eb8>"
      ]
     },
     "metadata": {},
     "output_type": "display_data"
    },
    {
     "data": {
      "image/png": "[encoded data removed]",
      "text/plain": [
       "<matplotlib.figure.Figure at 0x2204d614630>"
      ]
     },
     "metadata": {},
     "output_type": "display_data"
    }
   ],
   "source": [
    "all_prediction=MNB.predict(message_tf_idf)\n",
    "print('Axxuracy of all meassage:',accuracy_score(message['label'],all_prediction))\n",
    "print('Confusion matrix:',confusion_matrix(message['label'],all_prediction))\n",
    "plt.matshow(confusion_matrix(message['label'], all_prediction), cmap=plt.cm.binary, interpolation='nearest')\n",
    "plt.show()"
   ]
  },
  {
   "cell_type": "code",
   "execution_count": null,
   "metadata": {
    "collapsed": true
   },
   "outputs": [],
   "source": []
  }
 ],
 "metadata": {
  "anaconda-cloud": {},
  "kernelspec": {
   "display_name": "Python [conda env:Anaconda3]",
   "language": "python",
   "name": "conda-env-Anaconda3-py"
  },
  "language_info": {
   "codemirror_mode": {
    "name": "ipython",
    "version": 3
   },
   "file_extension": ".py",
   "mimetype": "text/x-python",
   "name": "python",
   "nbconvert_exporter": "python",
   "pygments_lexer": "ipython3",
   "version": "3.5.2"
  }
 },
 "nbformat": 4,
 "nbformat_minor": 1
}
